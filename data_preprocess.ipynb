{
 "cells": [
  {
   "cell_type": "code",
   "execution_count": 1,
   "metadata": {},
   "outputs": [
    {
     "name": "stderr",
     "output_type": "stream",
     "text": [
      "2024-08-23 17:38:44.022783: I tensorflow/core/util/port.cc:153] oneDNN custom operations are on. You may see slightly different numerical results due to floating-point round-off errors from different computation orders. To turn them off, set the environment variable `TF_ENABLE_ONEDNN_OPTS=0`.\n",
      "2024-08-23 17:38:44.023341: I external/local_xla/xla/tsl/cuda/cudart_stub.cc:32] Could not find cuda drivers on your machine, GPU will not be used.\n",
      "2024-08-23 17:38:44.025941: I external/local_xla/xla/tsl/cuda/cudart_stub.cc:32] Could not find cuda drivers on your machine, GPU will not be used.\n",
      "2024-08-23 17:38:44.033534: E external/local_xla/xla/stream_executor/cuda/cuda_fft.cc:485] Unable to register cuFFT factory: Attempting to register factory for plugin cuFFT when one has already been registered\n",
      "2024-08-23 17:38:44.049221: E external/local_xla/xla/stream_executor/cuda/cuda_dnn.cc:8454] Unable to register cuDNN factory: Attempting to register factory for plugin cuDNN when one has already been registered\n",
      "2024-08-23 17:38:44.053144: E external/local_xla/xla/stream_executor/cuda/cuda_blas.cc:1452] Unable to register cuBLAS factory: Attempting to register factory for plugin cuBLAS when one has already been registered\n",
      "2024-08-23 17:38:44.064363: I tensorflow/core/platform/cpu_feature_guard.cc:210] This TensorFlow binary is optimized to use available CPU instructions in performance-critical operations.\n",
      "To enable the following instructions: AVX2 AVX512F AVX512_VNNI FMA, in other operations, rebuild TensorFlow with the appropriate compiler flags.\n",
      "2024-08-23 17:38:44.902162: W tensorflow/compiler/tf2tensorrt/utils/py_utils.cc:38] TF-TRT Warning: Could not find TensorRT\n"
     ]
    }
   ],
   "source": [
    "from envloader import TRAINING_DATA,VALIDATION_DATA,PREPROCESSED_DATA\n",
    "import pandas as pd\n",
    "import os\n",
    "import numpy as np\n",
    "from tqdm import tqdm\n",
    "from util import  preprocess_image\n",
    "from sklearn.model_selection import train_test_split"
   ]
  },
  {
   "cell_type": "code",
   "execution_count": null,
   "metadata": {},
   "outputs": [],
   "source": []
  },
  {
   "cell_type": "markdown",
   "metadata": {},
   "source": [
    "PREPROCESSING\n"
   ]
  },
  {
   "attachments": {
    "image.png": {
     "image/png": "[encoded data removed]"
    }
   },
   "cell_type": "markdown",
   "metadata": {},
   "source": [
    "\n",
    "![image.png](attachment:image.png)"
   ]
  },
  {
   "cell_type": "code",
   "execution_count": 2,
   "metadata": {},
   "outputs": [
    {
     "name": "stdout",
     "output_type": "stream",
     "text": [
      "['20', '200', '50', '500', '100', '2000', '10']\n"
     ]
    }
   ],
   "source": [
    "training_data=os.listdir(TRAINING_DATA)\n",
    "#test_data=os.listdir(test_data)\n",
    "#validation_data=os.listdir(validation_data)\n",
    "print(training_data)"
   ]
  },
  {
   "cell_type": "code",
   "execution_count": null,
   "metadata": {},
   "outputs": [],
   "source": [
    "a = preprocess_image('/home/harshitha/study/ai/projects/currency_detector/dataset/training/10/0.jpg')\n",
    "len(a)\n",
    "a"
   ]
  },
  {
   "cell_type": "code",
   "execution_count": null,
   "metadata": {},
   "outputs": [],
   "source": [
    "training_data = [] \n",
    "validation_data = []\n",
    "\n",
    "labels = {\n",
    "    0: \"10\",\n",
    "    1: \"20\",\n",
    "    2: \"50\",\n",
    "    3: \"100\",\n",
    "    4: \"200\",\n",
    "    5: \"500\",\n",
    "    6: \"2000\",\n",
    "}\n",
    "data = [TRAINING_DATA, VALIDATION_DATA]\n",
    "\n",
    "for folder_name in range(7):\n",
    "    for path in data:\n",
    "        print(f'path :{path}\\nfolder_name : {folder_name}')\n",
    "\n",
    "        folder_path = os.path.join(path, labels[folder_name])\n",
    "        paths = os.listdir(folder_path)\n",
    "        for i in tqdm(range(0, len(paths))):\n",
    "            filename = paths[i]\n",
    "            if filename.endswith(('.jpg', '.jpeg', '.png')):\n",
    "                image_path = os.path.join(folder_path, filename)\n",
    "                preprocessed_img = preprocess_image(image_path)\n",
    "\n",
    "                if path == TRAINING_DATA:\n",
    "                    training_data.append([preprocessed_img, labels[folder_name]])\n",
    "                elif path == VALIDATION_DATA:\n",
    "                    validation_data.append([preprocessed_img, labels[folder_name]])\n",
    "                else:\n",
    "                    print(\"Invalid path\")\n",
    "\n",
    "# --- Separate Images and Labels ---\n",
    "X_train = np.array([data[0] for data in training_data])\n",
    "y_train = np.array([data[1] for data in training_data])\n",
    "X_val = np.array([data[0] for data in validation_data])\n",
    "y_val = np.array([data[1] for data in validation_data])\n",
    "\n",
    "# --- Save using NumPy's .npy format ---\n",
    "np.save(f'{PREPROCESSED_DATA}/X_train.npy', X_train)\n",
    "np.save(f'{PREPROCESSED_DATA}/y_train.npy', y_train)\n",
    "np.save(f'{PREPROCESSED_DATA}/X_val.npy', X_val)\n",
    "np.save(f'{PREPROCESSED_DATA}/y_val.npy', y_val)"
   ]
  },
  {
   "cell_type": "markdown",
   "metadata": {},
   "source": [
    "MODEL"
   ]
  },
  {
   "cell_type": "code",
   "execution_count": 9,
   "metadata": {},
   "outputs": [
    {
     "name": "stderr",
     "output_type": "stream",
     "text": [
      "Matplotlib is building the font cache; this may take a moment.\n"
     ]
    }
   ],
   "source": [
    "from tensorflow.keras.models import Sequential\n",
    "from tensorflow.keras.layers import Conv2D, MaxPooling2D, Flatten, Dense, Dropout\n",
    "from tensorflow.keras.utils import to_categorical\n",
    "from tensorflow.keras.preprocessing.image import ImageDataGenerator\n",
    "import matplotlib.pyplot as plt"
   ]
  },
  {
   "cell_type": "code",
   "execution_count": 10,
   "metadata": {},
   "outputs": [],
   "source": [
    "X_train = np.load(f'{PREPROCESSED_DATA}/X_train.npy')\n",
    "y_train = np.load(f'{PREPROCESSED_DATA}/y_train.npy')\n",
    "X_val = np.load(f'{PREPROCESSED_DATA}/X_val.npy')\n",
    "y_val = np.load(f'{PREPROCESSED_DATA}/y_val.npy')"
   ]
  },
  {
   "cell_type": "code",
   "execution_count": 11,
   "metadata": {},
   "outputs": [],
   "source": [
    "label_mapping = {\n",
    "    \"10\": 0,\n",
    "    \"20\": 1,\n",
    "    \"50\": 2,\n",
    "    \"100\": 3,\n",
    "    \"200\": 4,\n",
    "    \"500\": 5,\n",
    "    \"2000\": 6 \n",
    "}\n",
    "\n",
    "# Convert string labels to integers\n",
    "y_train_numerical = np.array([label_mapping[label] for label in y_train])\n",
    "y_val_numerical = np.array([label_mapping[label] for label in y_val])\n",
    "\n",
    "# Now, you can apply to_categorical\n",
    "y_train = to_categorical(y_train_numerical, num_classes=7)\n",
    "y_val = to_categorical(y_val_numerical, num_classes=7)"
   ]
  },
  {
   "cell_type": "code",
   "execution_count": 12,
   "metadata": {},
   "outputs": [
    {
     "data": {
      "text/plain": [
       "array([1., 0., 0., 0., 0., 0., 0.])"
      ]
     },
     "execution_count": 12,
     "metadata": {},
     "output_type": "execute_result"
    }
   ],
   "source": [
    "y_val[0]"
   ]
  },
  {
   "cell_type": "code",
   "execution_count": 13,
   "metadata": {},
   "outputs": [
    {
     "name": "stderr",
     "output_type": "stream",
     "text": [
      "/home/harshitha/study/ai/projects/currency_detector/currency/lib/python3.12/site-packages/keras/src/layers/convolutional/base_conv.py:107: UserWarning: Do not pass an `input_shape`/`input_dim` argument to a layer. When using Sequential models, prefer using an `Input(shape)` object as the first layer in the model instead.\n",
      "  super().__init__(activity_regularizer=activity_regularizer, **kwargs)\n"
     ]
    }
   ],
   "source": [
    "# --- 2. Build the CNN Model ---\n",
    "IMG_WIDTH = 224\n",
    "IMG_HEIGHT = 224\n",
    "model = Sequential()\n",
    "model.add(Conv2D(32, (3, 3), activation='relu', input_shape=(IMG_WIDTH, IMG_HEIGHT, 3)))\n",
    "model.add(MaxPooling2D((2, 2)))\n",
    "model.add(Conv2D(64, (3, 3), activation='relu'))\n",
    "model.add(MaxPooling2D((2, 2)))\n",
    "model.add(Conv2D(128, (3, 3), activation='relu')) \n",
    "model.add(MaxPooling2D((2, 2))) \n",
    "model.add(Flatten())\n",
    "model.add(Dense(128, activation='relu'))\n",
    "model.add(Dropout(0.5)) \n",
    "model.add(Dense(7, activation='softmax')) \n",
    "\n",
    "# --- 3. Compile the Model ---\n",
    "model.compile(optimizer='adam', \n",
    "              loss='categorical_crossentropy', \n",
    "              metrics=['accuracy'])"
   ]
  },
  {
   "cell_type": "code",
   "execution_count": 15,
   "metadata": {},
   "outputs": [
    {
     "name": "stdout",
     "output_type": "stream",
     "text": [
      "Epoch 1/20\n",
      "\u001b[1m19/19\u001b[0m \u001b[32m━━━━━━━━━━━━━━━━━━━━\u001b[0m\u001b[37m\u001b[0m \u001b[1m15s\u001b[0m 814ms/step - accuracy: 0.8783 - loss: 0.3772 - val_accuracy: 0.9042 - val_loss: 0.3302\n",
      "Epoch 2/20\n",
      "\u001b[1m19/19\u001b[0m \u001b[32m━━━━━━━━━━━━━━━━━━━━\u001b[0m\u001b[37m\u001b[0m \u001b[1m16s\u001b[0m 830ms/step - accuracy: 0.8850 - loss: 0.3593 - val_accuracy: 0.9102 - val_loss: 0.3087\n",
      "Epoch 3/20\n",
      "\u001b[1m19/19\u001b[0m \u001b[32m━━━━━━━━━━━━━━━━━━━━\u001b[0m\u001b[37m\u001b[0m \u001b[1m16s\u001b[0m 863ms/step - accuracy: 0.9205 - loss: 0.2721 - val_accuracy: 0.9102 - val_loss: 0.2786\n",
      "Epoch 4/20\n",
      "\u001b[1m19/19\u001b[0m \u001b[32m━━━━━━━━━━━━━━━━━━━━\u001b[0m\u001b[37m\u001b[0m \u001b[1m16s\u001b[0m 858ms/step - accuracy: 0.8933 - loss: 0.2967 - val_accuracy: 0.9281 - val_loss: 0.2847\n",
      "Epoch 5/20\n",
      "\u001b[1m19/19\u001b[0m \u001b[32m━━━━━━━━━━━━━━━━━━━━\u001b[0m\u001b[37m\u001b[0m \u001b[1m16s\u001b[0m 847ms/step - accuracy: 0.9442 - loss: 0.1802 - val_accuracy: 0.9461 - val_loss: 0.2539\n",
      "Epoch 6/20\n",
      "\u001b[1m19/19\u001b[0m \u001b[32m━━━━━━━━━━━━━━━━━━━━\u001b[0m\u001b[37m\u001b[0m \u001b[1m20s\u001b[0m 849ms/step - accuracy: 0.9386 - loss: 0.1621 - val_accuracy: 0.9521 - val_loss: 0.1949\n",
      "Epoch 7/20\n",
      "\u001b[1m19/19\u001b[0m \u001b[32m━━━━━━━━━━━━━━━━━━━━\u001b[0m\u001b[37m\u001b[0m \u001b[1m17s\u001b[0m 888ms/step - accuracy: 0.9460 - loss: 0.1356 - val_accuracy: 0.9581 - val_loss: 0.2139\n",
      "Epoch 8/20\n",
      "\u001b[1m19/19\u001b[0m \u001b[32m━━━━━━━━━━━━━━━━━━━━\u001b[0m\u001b[37m\u001b[0m \u001b[1m16s\u001b[0m 856ms/step - accuracy: 0.9381 - loss: 0.1793 - val_accuracy: 0.9521 - val_loss: 0.2521\n",
      "Epoch 9/20\n",
      "\u001b[1m19/19\u001b[0m \u001b[32m━━━━━━━━━━━━━━━━━━━━\u001b[0m\u001b[37m\u001b[0m \u001b[1m16s\u001b[0m 836ms/step - accuracy: 0.9437 - loss: 0.1984 - val_accuracy: 0.9461 - val_loss: 0.2432\n",
      "Epoch 10/20\n",
      "\u001b[1m19/19\u001b[0m \u001b[32m━━━━━━━━━━━━━━━━━━━━\u001b[0m\u001b[37m\u001b[0m \u001b[1m16s\u001b[0m 866ms/step - accuracy: 0.9552 - loss: 0.1450 - val_accuracy: 0.9461 - val_loss: 0.2539\n",
      "Epoch 11/20\n",
      "\u001b[1m19/19\u001b[0m \u001b[32m━━━━━━━━━━━━━━━━━━━━\u001b[0m\u001b[37m\u001b[0m \u001b[1m18s\u001b[0m 932ms/step - accuracy: 0.9654 - loss: 0.1419 - val_accuracy: 0.9701 - val_loss: 0.1771\n",
      "Epoch 12/20\n",
      "\u001b[1m19/19\u001b[0m \u001b[32m━━━━━━━━━━━━━━━━━━━━\u001b[0m\u001b[37m\u001b[0m \u001b[1m16s\u001b[0m 825ms/step - accuracy: 0.9476 - loss: 0.1446 - val_accuracy: 0.9341 - val_loss: 0.2253\n",
      "Epoch 13/20\n",
      "\u001b[1m19/19\u001b[0m \u001b[32m━━━━━━━━━━━━━━━━━━━━\u001b[0m\u001b[37m\u001b[0m \u001b[1m16s\u001b[0m 835ms/step - accuracy: 0.9591 - loss: 0.1310 - val_accuracy: 0.9401 - val_loss: 0.2393\n",
      "Epoch 14/20\n",
      "\u001b[1m19/19\u001b[0m \u001b[32m━━━━━━━━━━━━━━━━━━━━\u001b[0m\u001b[37m\u001b[0m \u001b[1m16s\u001b[0m 843ms/step - accuracy: 0.9766 - loss: 0.1014 - val_accuracy: 0.9461 - val_loss: 0.3254\n",
      "Epoch 15/20\n",
      "\u001b[1m19/19\u001b[0m \u001b[32m━━━━━━━━━━━━━━━━━━━━\u001b[0m\u001b[37m\u001b[0m \u001b[1m16s\u001b[0m 833ms/step - accuracy: 0.9749 - loss: 0.0908 - val_accuracy: 0.9461 - val_loss: 0.3427\n",
      "Epoch 16/20\n",
      "\u001b[1m19/19\u001b[0m \u001b[32m━━━━━━━━━━━━━━━━━━━━\u001b[0m\u001b[37m\u001b[0m \u001b[1m15s\u001b[0m 814ms/step - accuracy: 0.9712 - loss: 0.0763 - val_accuracy: 0.9521 - val_loss: 0.4011\n",
      "Epoch 17/20\n",
      "\u001b[1m19/19\u001b[0m \u001b[32m━━━━━━━━━━━━━━━━━━━━\u001b[0m\u001b[37m\u001b[0m \u001b[1m16s\u001b[0m 840ms/step - accuracy: 0.9822 - loss: 0.0490 - val_accuracy: 0.9521 - val_loss: 0.2203\n",
      "Epoch 18/20\n",
      "\u001b[1m19/19\u001b[0m \u001b[32m━━━━━━━━━━━━━━━━━━━━\u001b[0m\u001b[37m\u001b[0m \u001b[1m16s\u001b[0m 835ms/step - accuracy: 0.9838 - loss: 0.0464 - val_accuracy: 0.9581 - val_loss: 0.2983\n",
      "Epoch 19/20\n",
      "\u001b[1m19/19\u001b[0m \u001b[32m━━━━━━━━━━━━━━━━━━━━\u001b[0m\u001b[37m\u001b[0m \u001b[1m16s\u001b[0m 857ms/step - accuracy: 0.9718 - loss: 0.0633 - val_accuracy: 0.9521 - val_loss: 0.4061\n",
      "Epoch 20/20\n",
      "\u001b[1m19/19\u001b[0m \u001b[32m━━━━━━━━━━━━━━━━━━━━\u001b[0m\u001b[37m\u001b[0m \u001b[1m16s\u001b[0m 836ms/step - accuracy: 0.9787 - loss: 0.0542 - val_accuracy: 0.9461 - val_loss: 0.3447\n"
     ]
    }
   ],
   "source": [
    "# --- 5. Train the Model ---\n",
    "epochs = 20\n",
    " \n",
    "history = model.fit(X_train, y_train,\n",
    "                    epochs=epochs,\n",
    "                    validation_data=(X_val, y_val))"
   ]
  }
 ],
 "metadata": {
  "kernelspec": {
   "display_name": ".venv",
   "language": "python",
   "name": "python3"
  },
  "language_info": {
   "codemirror_mode": {
    "name": "ipython",
    "version": 3
   },
   "file_extension": ".py",
   "mimetype": "text/x-python",
   "name": "python",
   "nbconvert_exporter": "python",
   "pygments_lexer": "ipython3",
   "version": "3.12.3"
  }
 },
 "nbformat": 4,
 "nbformat_minor": 2
}
